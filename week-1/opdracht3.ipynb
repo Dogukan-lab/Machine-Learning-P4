{
 "cells": [
  {
   "cell_type": "markdown",
   "source": [
    "# Opdracht 4.3: ZTDL 3 – Machine Learning\n",
    " De eenvoudigste vorm van Machine Learning is Lineaire Regressie. In het eerste deel van het\n",
    " notebook wordt uitgelegd hoe je dit met analytische code kunt doen. Je mag dit deel overslaan en\n",
    " doorgaan naar de paragraaf Linear Regression with Keras omdat wij ons in deze module willen\n",
    " richten op Neurale Netwerken.\n",
    "\n",
    "We beschouwen in deze opdracht (alleen) de paragraaf Linear Regression with Keras\n",
    "- Neem het Jupyter Notebook over in een nieuw eigen Notebook"
   ],
   "metadata": {
    "collapsed": false,
    "pycharm": {
     "name": "#%% md\n"
    }
   },
   "outputs": []
  },
  {
   "cell_type": "markdown",
   "source": [
    "- Zoek op het Internet een andere dataset dan hier besproken die geschikt is om lineraire\n",
    "    regressie op toe te passen.\n",
    "- Pas lineaire regressie toe op de gevonden dataset.\n",
    "- Plaats commentaar bij de code zodat de werking van het programma op hoofdlijnen duidelijk\n",
    "wordt."
   ],
   "metadata": {
    "collapsed": false,
    "pycharm": {
     "name": "#%% md\n"
    }
   }
  },
  {
   "cell_type": "code",
   "execution_count": 2,
   "outputs": [],
   "source": [
    "%matplotlib inline\n",
    "import matplotlib.pyplot as plt\n",
    "import pandas as pd\n",
    "import numpy as np"
   ],
   "metadata": {
    "collapsed": false,
    "pycharm": {
     "name": "#%%\n"
    }
   }
  },
  {
   "cell_type": "code",
   "execution_count": 3,
   "outputs": [
    {
     "name": "stderr",
     "output_type": "stream",
     "text": [
      "C:\\Anacondont\\envs\\machineLearningP4\\lib\\site-packages\\IPython\\core\\interactiveshell.py:3186: DtypeWarning: Columns (47,73) have mixed types.Specify dtype option on import or set low_memory=False.\n",
      "  interactivity=interactivity, compiler=compiler, result=result)\n"
     ]
    },
    {
     "data": {
      "text/plain": "   Cst_Cnt  Btl_Cnt       Sta_ID                                Depth_ID  \\\n0        1        1  054.0 056.0  19-4903CR-HY-060-0930-05400560-0000A-3   \n1        1        2  054.0 056.0  19-4903CR-HY-060-0930-05400560-0008A-3   \n2        1        3  054.0 056.0  19-4903CR-HY-060-0930-05400560-0010A-7   \n3        1        4  054.0 056.0  19-4903CR-HY-060-0930-05400560-0019A-3   \n4        1        5  054.0 056.0  19-4903CR-HY-060-0930-05400560-0020A-7   \n\n   Depthm  T_degC  Salnty  O2ml_L  STheta  O2Sat  ...  R_PHAEO  R_PRES  \\\n0       0   10.50  33.440     NaN  25.649    NaN  ...      NaN       0   \n1       8   10.46  33.440     NaN  25.656    NaN  ...      NaN       8   \n2      10   10.46  33.437     NaN  25.654    NaN  ...      NaN      10   \n3      19   10.45  33.420     NaN  25.643    NaN  ...      NaN      19   \n4      20   10.45  33.421     NaN  25.643    NaN  ...      NaN      20   \n\n   R_SAMP  DIC1  DIC2  TA1  TA2  pH2  pH1  DIC Quality Comment  \n0     NaN   NaN   NaN  NaN  NaN  NaN  NaN                  NaN  \n1     NaN   NaN   NaN  NaN  NaN  NaN  NaN                  NaN  \n2     NaN   NaN   NaN  NaN  NaN  NaN  NaN                  NaN  \n3     NaN   NaN   NaN  NaN  NaN  NaN  NaN                  NaN  \n4     NaN   NaN   NaN  NaN  NaN  NaN  NaN                  NaN  \n\n[5 rows x 74 columns]",
      "text/html": "<div>\n<style scoped>\n    .dataframe tbody tr th:only-of-type {\n        vertical-align: middle;\n    }\n\n    .dataframe tbody tr th {\n        vertical-align: top;\n    }\n\n    .dataframe thead th {\n        text-align: right;\n    }\n</style>\n<table border=\"1\" class=\"dataframe\">\n  <thead>\n    <tr style=\"text-align: right;\">\n      <th></th>\n      <th>Cst_Cnt</th>\n      <th>Btl_Cnt</th>\n      <th>Sta_ID</th>\n      <th>Depth_ID</th>\n      <th>Depthm</th>\n      <th>T_degC</th>\n      <th>Salnty</th>\n      <th>O2ml_L</th>\n      <th>STheta</th>\n      <th>O2Sat</th>\n      <th>...</th>\n      <th>R_PHAEO</th>\n      <th>R_PRES</th>\n      <th>R_SAMP</th>\n      <th>DIC1</th>\n      <th>DIC2</th>\n      <th>TA1</th>\n      <th>TA2</th>\n      <th>pH2</th>\n      <th>pH1</th>\n      <th>DIC Quality Comment</th>\n    </tr>\n  </thead>\n  <tbody>\n    <tr>\n      <th>0</th>\n      <td>1</td>\n      <td>1</td>\n      <td>054.0 056.0</td>\n      <td>19-4903CR-HY-060-0930-05400560-0000A-3</td>\n      <td>0</td>\n      <td>10.50</td>\n      <td>33.440</td>\n      <td>NaN</td>\n      <td>25.649</td>\n      <td>NaN</td>\n      <td>...</td>\n      <td>NaN</td>\n      <td>0</td>\n      <td>NaN</td>\n      <td>NaN</td>\n      <td>NaN</td>\n      <td>NaN</td>\n      <td>NaN</td>\n      <td>NaN</td>\n      <td>NaN</td>\n      <td>NaN</td>\n    </tr>\n    <tr>\n      <th>1</th>\n      <td>1</td>\n      <td>2</td>\n      <td>054.0 056.0</td>\n      <td>19-4903CR-HY-060-0930-05400560-0008A-3</td>\n      <td>8</td>\n      <td>10.46</td>\n      <td>33.440</td>\n      <td>NaN</td>\n      <td>25.656</td>\n      <td>NaN</td>\n      <td>...</td>\n      <td>NaN</td>\n      <td>8</td>\n      <td>NaN</td>\n      <td>NaN</td>\n      <td>NaN</td>\n      <td>NaN</td>\n      <td>NaN</td>\n      <td>NaN</td>\n      <td>NaN</td>\n      <td>NaN</td>\n    </tr>\n    <tr>\n      <th>2</th>\n      <td>1</td>\n      <td>3</td>\n      <td>054.0 056.0</td>\n      <td>19-4903CR-HY-060-0930-05400560-0010A-7</td>\n      <td>10</td>\n      <td>10.46</td>\n      <td>33.437</td>\n      <td>NaN</td>\n      <td>25.654</td>\n      <td>NaN</td>\n      <td>...</td>\n      <td>NaN</td>\n      <td>10</td>\n      <td>NaN</td>\n      <td>NaN</td>\n      <td>NaN</td>\n      <td>NaN</td>\n      <td>NaN</td>\n      <td>NaN</td>\n      <td>NaN</td>\n      <td>NaN</td>\n    </tr>\n    <tr>\n      <th>3</th>\n      <td>1</td>\n      <td>4</td>\n      <td>054.0 056.0</td>\n      <td>19-4903CR-HY-060-0930-05400560-0019A-3</td>\n      <td>19</td>\n      <td>10.45</td>\n      <td>33.420</td>\n      <td>NaN</td>\n      <td>25.643</td>\n      <td>NaN</td>\n      <td>...</td>\n      <td>NaN</td>\n      <td>19</td>\n      <td>NaN</td>\n      <td>NaN</td>\n      <td>NaN</td>\n      <td>NaN</td>\n      <td>NaN</td>\n      <td>NaN</td>\n      <td>NaN</td>\n      <td>NaN</td>\n    </tr>\n    <tr>\n      <th>4</th>\n      <td>1</td>\n      <td>5</td>\n      <td>054.0 056.0</td>\n      <td>19-4903CR-HY-060-0930-05400560-0020A-7</td>\n      <td>20</td>\n      <td>10.45</td>\n      <td>33.421</td>\n      <td>NaN</td>\n      <td>25.643</td>\n      <td>NaN</td>\n      <td>...</td>\n      <td>NaN</td>\n      <td>20</td>\n      <td>NaN</td>\n      <td>NaN</td>\n      <td>NaN</td>\n      <td>NaN</td>\n      <td>NaN</td>\n      <td>NaN</td>\n      <td>NaN</td>\n      <td>NaN</td>\n    </tr>\n  </tbody>\n</table>\n<p>5 rows × 74 columns</p>\n</div>"
     },
     "execution_count": 3,
     "metadata": {},
     "output_type": "execute_result"
    }
   ],
   "source": [
    "df = pd.read_csv(\"../datasets/cast/bottle.csv\")\n",
    "\n",
    "df.head()"
   ],
   "metadata": {
    "collapsed": false,
    "pycharm": {
     "name": "#%%\n"
    }
   }
  },
  {
   "cell_type": "code",
   "execution_count": 38,
   "outputs": [
    {
     "data": {
      "text/plain": "    Cst_Cnt  Btl_Cnt       Sta_ID                                Depth_ID  \\\n18        1       19  054.0 056.0  19-4903CR-HY-060-0930-05400560-0250A-7   \n19        1       20  054.0 056.0  19-4903CR-HY-060-0930-05400560-0285A-3   \n20        1       21  054.0 056.0  19-4903CR-HY-060-0930-05400560-0300A-7   \n21        1       22  054.0 056.0  19-4903CR-HY-060-0930-05400560-0373A-3   \n22        1       23  054.0 056.0  19-4903CR-HY-060-0930-05400560-0400A-7   \n\n    Depthm  T_degC  Salnty  O2ml_L  STheta  O2Sat  ...  R_PHAEO  R_PRES  \\\n18     250    8.26  33.926     NaN  26.396    NaN  ...      NaN     252   \n19     285    7.96  33.980     NaN  26.483    NaN  ...      NaN     287   \n20     300    7.77  33.990     NaN  26.519    NaN  ...      NaN     302   \n21     373    6.80  34.040     NaN  26.695    NaN  ...      NaN     376   \n22     400    6.55  34.056     NaN  26.741    NaN  ...      NaN     403   \n\n    R_SAMP  DIC1  DIC2  TA1  TA2  pH2  pH1  DIC Quality Comment  \n18     NaN   NaN   NaN  NaN  NaN  NaN  NaN                  NaN  \n19     NaN   NaN   NaN  NaN  NaN  NaN  NaN                  NaN  \n20     NaN   NaN   NaN  NaN  NaN  NaN  NaN                  NaN  \n21     NaN   NaN   NaN  NaN  NaN  NaN  NaN                  NaN  \n22     NaN   NaN   NaN  NaN  NaN  NaN  NaN                  NaN  \n\n[5 rows x 74 columns]",
      "text/html": "<div>\n<style scoped>\n    .dataframe tbody tr th:only-of-type {\n        vertical-align: middle;\n    }\n\n    .dataframe tbody tr th {\n        vertical-align: top;\n    }\n\n    .dataframe thead th {\n        text-align: right;\n    }\n</style>\n<table border=\"1\" class=\"dataframe\">\n  <thead>\n    <tr style=\"text-align: right;\">\n      <th></th>\n      <th>Cst_Cnt</th>\n      <th>Btl_Cnt</th>\n      <th>Sta_ID</th>\n      <th>Depth_ID</th>\n      <th>Depthm</th>\n      <th>T_degC</th>\n      <th>Salnty</th>\n      <th>O2ml_L</th>\n      <th>STheta</th>\n      <th>O2Sat</th>\n      <th>...</th>\n      <th>R_PHAEO</th>\n      <th>R_PRES</th>\n      <th>R_SAMP</th>\n      <th>DIC1</th>\n      <th>DIC2</th>\n      <th>TA1</th>\n      <th>TA2</th>\n      <th>pH2</th>\n      <th>pH1</th>\n      <th>DIC Quality Comment</th>\n    </tr>\n  </thead>\n  <tbody>\n    <tr>\n      <th>18</th>\n      <td>1</td>\n      <td>19</td>\n      <td>054.0 056.0</td>\n      <td>19-4903CR-HY-060-0930-05400560-0250A-7</td>\n      <td>250</td>\n      <td>8.26</td>\n      <td>33.926</td>\n      <td>NaN</td>\n      <td>26.396</td>\n      <td>NaN</td>\n      <td>...</td>\n      <td>NaN</td>\n      <td>252</td>\n      <td>NaN</td>\n      <td>NaN</td>\n      <td>NaN</td>\n      <td>NaN</td>\n      <td>NaN</td>\n      <td>NaN</td>\n      <td>NaN</td>\n      <td>NaN</td>\n    </tr>\n    <tr>\n      <th>19</th>\n      <td>1</td>\n      <td>20</td>\n      <td>054.0 056.0</td>\n      <td>19-4903CR-HY-060-0930-05400560-0285A-3</td>\n      <td>285</td>\n      <td>7.96</td>\n      <td>33.980</td>\n      <td>NaN</td>\n      <td>26.483</td>\n      <td>NaN</td>\n      <td>...</td>\n      <td>NaN</td>\n      <td>287</td>\n      <td>NaN</td>\n      <td>NaN</td>\n      <td>NaN</td>\n      <td>NaN</td>\n      <td>NaN</td>\n      <td>NaN</td>\n      <td>NaN</td>\n      <td>NaN</td>\n    </tr>\n    <tr>\n      <th>20</th>\n      <td>1</td>\n      <td>21</td>\n      <td>054.0 056.0</td>\n      <td>19-4903CR-HY-060-0930-05400560-0300A-7</td>\n      <td>300</td>\n      <td>7.77</td>\n      <td>33.990</td>\n      <td>NaN</td>\n      <td>26.519</td>\n      <td>NaN</td>\n      <td>...</td>\n      <td>NaN</td>\n      <td>302</td>\n      <td>NaN</td>\n      <td>NaN</td>\n      <td>NaN</td>\n      <td>NaN</td>\n      <td>NaN</td>\n      <td>NaN</td>\n      <td>NaN</td>\n      <td>NaN</td>\n    </tr>\n    <tr>\n      <th>21</th>\n      <td>1</td>\n      <td>22</td>\n      <td>054.0 056.0</td>\n      <td>19-4903CR-HY-060-0930-05400560-0373A-3</td>\n      <td>373</td>\n      <td>6.80</td>\n      <td>34.040</td>\n      <td>NaN</td>\n      <td>26.695</td>\n      <td>NaN</td>\n      <td>...</td>\n      <td>NaN</td>\n      <td>376</td>\n      <td>NaN</td>\n      <td>NaN</td>\n      <td>NaN</td>\n      <td>NaN</td>\n      <td>NaN</td>\n      <td>NaN</td>\n      <td>NaN</td>\n      <td>NaN</td>\n    </tr>\n    <tr>\n      <th>22</th>\n      <td>1</td>\n      <td>23</td>\n      <td>054.0 056.0</td>\n      <td>19-4903CR-HY-060-0930-05400560-0400A-7</td>\n      <td>400</td>\n      <td>6.55</td>\n      <td>34.056</td>\n      <td>NaN</td>\n      <td>26.741</td>\n      <td>NaN</td>\n      <td>...</td>\n      <td>NaN</td>\n      <td>403</td>\n      <td>NaN</td>\n      <td>NaN</td>\n      <td>NaN</td>\n      <td>NaN</td>\n      <td>NaN</td>\n      <td>NaN</td>\n      <td>NaN</td>\n      <td>NaN</td>\n    </tr>\n  </tbody>\n</table>\n<p>5 rows × 74 columns</p>\n</div>"
     },
     "execution_count": 38,
     "metadata": {},
     "output_type": "execute_result"
    }
   ],
   "source": [
    "df1 = df[df['Btl_Cnt'].between(19, 98)]\n",
    "df1.head()"
   ],
   "metadata": {
    "collapsed": false,
    "pycharm": {
     "name": "#%%\n"
    }
   }
  },
  {
   "cell_type": "code",
   "execution_count": 39,
   "outputs": [
    {
     "data": {
      "text/plain": "<Figure size 432x288 with 1 Axes>",
      "image/png": "[encoded data removed]"
     },
     "metadata": {
      "needs_background": "light"
     },
     "output_type": "display_data"
    }
   ],
   "source": [
    "df1.plot.scatter(x='STheta', y='Salnty', c='r'); #Zonder lineare regressie"
   ],
   "metadata": {
    "collapsed": false,
    "pycharm": {
     "name": "#%%\n"
    }
   }
  },
  {
   "cell_type": "code",
   "execution_count": 40,
   "outputs": [],
   "source": [
    "def line(x, w=0, b=0):\n",
    "    return x * w + b"
   ],
   "metadata": {
    "collapsed": false,
    "pycharm": {
     "name": "#%%\n"
    }
   }
  },
  {
   "cell_type": "code",
   "execution_count": 41,
   "outputs": [],
   "source": [
    "x = np.linspace(24.6, 28, 200);"
   ],
   "metadata": {
    "collapsed": false,
    "pycharm": {
     "name": "#%%\n"
    }
   }
  },
  {
   "cell_type": "code",
   "execution_count": 42,
   "outputs": [
    {
     "data": {
      "text/plain": "array([24.6       , 24.61708543, 24.63417085, 24.65125628, 24.66834171,\n       24.68542714, 24.70251256, 24.71959799, 24.73668342, 24.75376884,\n       24.77085427, 24.7879397 , 24.80502513, 24.82211055, 24.83919598,\n       24.85628141, 24.87336683, 24.89045226, 24.90753769, 24.92462312,\n       24.94170854, 24.95879397, 24.9758794 , 24.99296482, 25.01005025,\n       25.02713568, 25.04422111, 25.06130653, 25.07839196, 25.09547739,\n       25.11256281, 25.12964824, 25.14673367, 25.1638191 , 25.18090452,\n       25.19798995, 25.21507538, 25.2321608 , 25.24924623, 25.26633166,\n       25.28341709, 25.30050251, 25.31758794, 25.33467337, 25.35175879,\n       25.36884422, 25.38592965, 25.40301508, 25.4201005 , 25.43718593,\n       25.45427136, 25.47135678, 25.48844221, 25.50552764, 25.52261307,\n       25.53969849, 25.55678392, 25.57386935, 25.59095477, 25.6080402 ,\n       25.62512563, 25.64221106, 25.65929648, 25.67638191, 25.69346734,\n       25.71055276, 25.72763819, 25.74472362, 25.76180905, 25.77889447,\n       25.7959799 , 25.81306533, 25.83015075, 25.84723618, 25.86432161,\n       25.88140704, 25.89849246, 25.91557789, 25.93266332, 25.94974874,\n       25.96683417, 25.9839196 , 26.00100503, 26.01809045, 26.03517588,\n       26.05226131, 26.06934673, 26.08643216, 26.10351759, 26.12060302,\n       26.13768844, 26.15477387, 26.1718593 , 26.18894472, 26.20603015,\n       26.22311558, 26.24020101, 26.25728643, 26.27437186, 26.29145729,\n       26.30854271, 26.32562814, 26.34271357, 26.35979899, 26.37688442,\n       26.39396985, 26.41105528, 26.4281407 , 26.44522613, 26.46231156,\n       26.47939698, 26.49648241, 26.51356784, 26.53065327, 26.54773869,\n       26.56482412, 26.58190955, 26.59899497, 26.6160804 , 26.63316583,\n       26.65025126, 26.66733668, 26.68442211, 26.70150754, 26.71859296,\n       26.73567839, 26.75276382, 26.76984925, 26.78693467, 26.8040201 ,\n       26.82110553, 26.83819095, 26.85527638, 26.87236181, 26.88944724,\n       26.90653266, 26.92361809, 26.94070352, 26.95778894, 26.97487437,\n       26.9919598 , 27.00904523, 27.02613065, 27.04321608, 27.06030151,\n       27.07738693, 27.09447236, 27.11155779, 27.12864322, 27.14572864,\n       27.16281407, 27.1798995 , 27.19698492, 27.21407035, 27.23115578,\n       27.24824121, 27.26532663, 27.28241206, 27.29949749, 27.31658291,\n       27.33366834, 27.35075377, 27.3678392 , 27.38492462, 27.40201005,\n       27.41909548, 27.4361809 , 27.45326633, 27.47035176, 27.48743719,\n       27.50452261, 27.52160804, 27.53869347, 27.55577889, 27.57286432,\n       27.58994975, 27.60703518, 27.6241206 , 27.64120603, 27.65829146,\n       27.67537688, 27.69246231, 27.70954774, 27.72663317, 27.74371859,\n       27.76080402, 27.77788945, 27.79497487, 27.8120603 , 27.82914573,\n       27.84623116, 27.86331658, 27.88040201, 27.89748744, 27.91457286,\n       27.93165829, 27.94874372, 27.96582915, 27.98291457, 28.        ])"
     },
     "execution_count": 42,
     "metadata": {},
     "output_type": "execute_result"
    }
   ],
   "source": [
    "x"
   ],
   "metadata": {
    "collapsed": false,
    "pycharm": {
     "name": "#%%\n"
    }
   }
  },
  {
   "cell_type": "code",
   "execution_count": 43,
   "outputs": [],
   "source": [
    "yhat = line(x, 0, 0)"
   ],
   "metadata": {
    "collapsed": false,
    "pycharm": {
     "name": "#%%\n"
    }
   }
  },
  {
   "cell_type": "code",
   "execution_count": 44,
   "outputs": [
    {
     "data": {
      "text/plain": "array([0., 0., 0., 0., 0., 0., 0., 0., 0., 0., 0., 0., 0., 0., 0., 0., 0.,\n       0., 0., 0., 0., 0., 0., 0., 0., 0., 0., 0., 0., 0., 0., 0., 0., 0.,\n       0., 0., 0., 0., 0., 0., 0., 0., 0., 0., 0., 0., 0., 0., 0., 0., 0.,\n       0., 0., 0., 0., 0., 0., 0., 0., 0., 0., 0., 0., 0., 0., 0., 0., 0.,\n       0., 0., 0., 0., 0., 0., 0., 0., 0., 0., 0., 0., 0., 0., 0., 0., 0.,\n       0., 0., 0., 0., 0., 0., 0., 0., 0., 0., 0., 0., 0., 0., 0., 0., 0.,\n       0., 0., 0., 0., 0., 0., 0., 0., 0., 0., 0., 0., 0., 0., 0., 0., 0.,\n       0., 0., 0., 0., 0., 0., 0., 0., 0., 0., 0., 0., 0., 0., 0., 0., 0.,\n       0., 0., 0., 0., 0., 0., 0., 0., 0., 0., 0., 0., 0., 0., 0., 0., 0.,\n       0., 0., 0., 0., 0., 0., 0., 0., 0., 0., 0., 0., 0., 0., 0., 0., 0.,\n       0., 0., 0., 0., 0., 0., 0., 0., 0., 0., 0., 0., 0., 0., 0., 0., 0.,\n       0., 0., 0., 0., 0., 0., 0., 0., 0., 0., 0., 0., 0.])"
     },
     "execution_count": 44,
     "metadata": {},
     "output_type": "execute_result"
    }
   ],
   "source": [
    "yhat"
   ],
   "metadata": {
    "collapsed": false,
    "pycharm": {
     "name": "#%%\n"
    }
   }
  },
  {
   "cell_type": "code",
   "execution_count": 45,
   "outputs": [
    {
     "data": {
      "text/plain": "[<matplotlib.lines.Line2D at 0x21db61fb748>]"
     },
     "execution_count": 45,
     "metadata": {},
     "output_type": "execute_result"
    },
    {
     "data": {
      "text/plain": "<Figure size 432x288 with 1 Axes>",
      "image/png": "[encoded data removed]"
     },
     "metadata": {
      "needs_background": "light"
     },
     "output_type": "display_data"
    }
   ],
   "source": [
    "df1.plot(kind='scatter',\n",
    "        x='STheta',\n",
    "        y='Salnty',\n",
    "        title='STheta, in comparison to Salnty')\n",
    "plt.plot(x, yhat, color='red', linewidth=3)"
   ],
   "metadata": {
    "collapsed": false,
    "pycharm": {
     "name": "#%%\n"
    }
   }
  },
  {
   "cell_type": "code",
   "execution_count": 46,
   "outputs": [],
   "source": [
    "def mean_squared_error(y_true, y_pred):\n",
    "    s = (y_true - y_pred)**2\n",
    "    return s.mean()"
   ],
   "metadata": {
    "collapsed": false,
    "pycharm": {
     "name": "#%%\n"
    }
   }
  },
  {
   "cell_type": "code",
   "execution_count": 47,
   "outputs": [],
   "source": [
    "X = df1['STheta'].values\n",
    "y_true = df1['Salnty'].values"
   ],
   "metadata": {
    "collapsed": false,
    "pycharm": {
     "name": "#%%\n"
    }
   }
  },
  {
   "cell_type": "code",
   "execution_count": 48,
   "outputs": [
    {
     "name": "stdout",
     "output_type": "stream",
     "text": [
      "[33.926 33.98  33.99  34.04  34.056 34.113 34.16  34.161 34.21  34.261\n",
      " 34.31  32.95  32.94  32.939 32.95  33.013 33.24  33.272 33.46  33.488\n",
      " 33.6   33.631 33.745 33.8   33.833 33.93  33.939 33.943 33.95  33.957\n",
      " 34.    34.016 34.101 34.16  34.188 34.259 34.319 34.34  34.354 34.378\n",
      " 34.403 34.429 34.43  32.63  32.66  32.66  32.66  32.673 32.68  32.75\n",
      " 32.736 32.66  32.74  32.765 33.12  33.132 33.398 33.605 33.82  33.844\n",
      " 33.926 33.93  33.941 34.041 34.11  34.113 34.135 34.151 34.16  34.169\n",
      " 34.252 34.336 34.421 34.45  32.68  32.7   32.694 32.66  32.657 32.641]\n"
     ]
    }
   ],
   "source": [
    "print(y_true)"
   ],
   "metadata": {
    "collapsed": false,
    "pycharm": {
     "name": "#%%\n"
    }
   }
  },
  {
   "cell_type": "code",
   "execution_count": 49,
   "outputs": [
    {
     "name": "stdout",
     "output_type": "stream",
     "text": [
      "[26.396 26.483 26.519 26.695 26.741 26.885 26.98  26.982 27.054 27.128\n",
      " 27.198 25.335 25.363 25.385 25.404 25.48  25.732 25.76  25.926 25.962\n",
      " 26.121 26.162 26.312 26.386 26.432 26.581 26.606 26.68  26.72  26.738\n",
      " 26.816 26.841 26.965 27.044 27.079 27.168 27.243 27.269 27.294 27.337\n",
      " 27.381 27.423 27.425 25.069 25.117 25.134 25.136 25.15  25.163 25.259\n",
      " 25.242 25.143 25.247 25.271 25.612 25.624 25.899 26.126 26.392 26.43\n",
      " 26.586 26.651 26.672 26.856 26.972 26.98  27.041 27.084 27.11  27.12\n",
      " 27.209 27.3   27.39  27.421 25.074 25.12  25.119 25.103 25.1   25.1  ]\n"
     ]
    }
   ],
   "source": [
    "print(X)"
   ],
   "metadata": {
    "collapsed": false,
    "pycharm": {
     "name": "#%%\n"
    }
   }
  },
  {
   "cell_type": "code",
   "execution_count": 50,
   "outputs": [],
   "source": [
    "y_pred = line(X, 1.26, 0.8)"
   ],
   "metadata": {
    "collapsed": false,
    "pycharm": {
     "name": "#%%\n"
    }
   }
  },
  {
   "cell_type": "code",
   "execution_count": 51,
   "outputs": [
    {
     "data": {
      "text/plain": "array([34.05896, 34.16858, 34.21394, 34.4357 , 34.49366, 34.6751 ,\n       34.7948 , 34.79732, 34.88804, 34.98128, 35.06948, 32.7221 ,\n       32.75738, 32.7851 , 32.80904, 32.9048 , 33.22232, 33.2576 ,\n       33.46676, 33.51212, 33.71246, 33.76412, 33.95312, 34.04636,\n       34.10432, 34.29206, 34.32356, 34.4168 , 34.4672 , 34.48988,\n       34.58816, 34.61966, 34.7759 , 34.87544, 34.91954, 35.03168,\n       35.12618, 35.15894, 35.19044, 35.24462, 35.30006, 35.35298,\n       35.3555 , 32.38694, 32.44742, 32.46884, 32.47136, 32.489  ,\n       32.50538, 32.62634, 32.60492, 32.48018, 32.61122, 32.64146,\n       33.07112, 33.08624, 33.43274, 33.71876, 34.05392, 34.1018 ,\n       34.29836, 34.38026, 34.40672, 34.63856, 34.78472, 34.7948 ,\n       34.87166, 34.92584, 34.9586 , 34.9712 , 35.08334, 35.198  ,\n       35.3114 , 35.35046, 32.39324, 32.4512 , 32.44994, 32.42978,\n       32.426  , 32.426  ])"
     },
     "execution_count": 51,
     "metadata": {},
     "output_type": "execute_result"
    }
   ],
   "source": [
    "y_pred"
   ],
   "metadata": {
    "collapsed": false,
    "pycharm": {
     "name": "#%%\n"
    }
   }
  },
  {
   "cell_type": "markdown",
   "source": [
    "## Linear regressie d.m.v. Keras"
   ],
   "metadata": {
    "collapsed": false,
    "pycharm": {
     "name": "#%% md\n"
    }
   }
  },
  {
   "cell_type": "code",
   "execution_count": 52,
   "outputs": [],
   "source": [
    "from tensorflow.keras.models import Sequential\n",
    "from tensorflow.keras.layers import Dense\n",
    "from tensorflow.keras.optimizers import Adam, SGD"
   ],
   "metadata": {
    "collapsed": false,
    "pycharm": {
     "name": "#%%\n"
    }
   }
  },
  {
   "cell_type": "code",
   "execution_count": 64,
   "outputs": [
    {
     "name": "stdout",
     "output_type": "stream",
     "text": [
      "Model: \"sequential_3\"\n",
      "_________________________________________________________________\n",
      "Layer (type)                 Output Shape              Param #   \n",
      "=================================================================\n",
      "dense_3 (Dense)              (None, 1)                 2         \n",
      "=================================================================\n",
      "Total params: 2\n",
      "Trainable params: 2\n",
      "Non-trainable params: 0\n",
      "_________________________________________________________________\n"
     ]
    }
   ],
   "source": [
    "model = Sequential()\n",
    "\n",
    "model.add(Dense(1, input_shape=(1,)))\n",
    "\n",
    "model.summary()"
   ],
   "metadata": {
    "collapsed": false,
    "pycharm": {
     "name": "#%%\n"
    }
   }
  },
  {
   "cell_type": "code",
   "execution_count": 83,
   "outputs": [],
   "source": [
    "model.compile(Adam(learning_rate=0.05), 'mean_squared_error', metrics=['accuracy'])"
   ],
   "metadata": {
    "collapsed": false,
    "pycharm": {
     "name": "#%%\n"
    }
   }
  },
  {
   "cell_type": "code",
   "execution_count": 84,
   "outputs": [
    {
     "data": {
      "text/plain": "False"
     },
     "execution_count": 84,
     "metadata": {},
     "output_type": "execute_result"
    }
   ],
   "source": [
    "np.any(np.isnan(y_true))"
   ],
   "metadata": {
    "collapsed": false,
    "pycharm": {
     "name": "#%%\n"
    }
   }
  },
  {
   "cell_type": "code",
   "execution_count": 85,
   "outputs": [
    {
     "name": "stdout",
     "output_type": "stream",
     "text": [
      "Epoch 1/80\n",
      "3/3 [==============================] - 1s 2ms/step - loss: 0.6707 - accuracy: 0.0000e+00\n",
      "Epoch 2/80\n",
      "3/3 [==============================] - 0s 2ms/step - loss: 0.5944 - accuracy: 0.0000e+00\n",
      "Epoch 3/80\n",
      "3/3 [==============================] - 0s 2ms/step - loss: 0.1947 - accuracy: 0.0000e+00\n",
      "Epoch 4/80\n",
      "3/3 [==============================] - 0s 2ms/step - loss: 0.3215 - accuracy: 0.0000e+00\n",
      "Epoch 5/80\n",
      "3/3 [==============================] - 0s 2ms/step - loss: 0.1503 - accuracy: 0.0000e+00\n",
      "Epoch 6/80\n",
      "3/3 [==============================] - 0s 2ms/step - loss: 0.1433 - accuracy: 0.0000e+00\n",
      "Epoch 7/80\n",
      "3/3 [==============================] - 0s 3ms/step - loss: 0.1541 - accuracy: 0.0000e+00\n",
      "Epoch 8/80\n",
      "3/3 [==============================] - 0s 3ms/step - loss: 0.0915 - accuracy: 0.0000e+00\n",
      "Epoch 9/80\n",
      "3/3 [==============================] - 0s 2ms/step - loss: 0.1258 - accuracy: 0.0000e+00\n",
      "Epoch 10/80\n",
      "3/3 [==============================] - 0s 2ms/step - loss: 0.0744 - accuracy: 0.0000e+00\n",
      "Epoch 11/80\n",
      "3/3 [==============================] - 0s 2ms/step - loss: 0.0900 - accuracy: 0.0000e+00\n",
      "Epoch 12/80\n",
      "3/3 [==============================] - 0s 2ms/step - loss: 0.0760 - accuracy: 0.0000e+00\n",
      "Epoch 13/80\n",
      "3/3 [==============================] - 0s 3ms/step - loss: 0.0847 - accuracy: 0.0000e+00\n",
      "Epoch 14/80\n",
      "3/3 [==============================] - 0s 3ms/step - loss: 0.0692 - accuracy: 0.0000e+00\n",
      "Epoch 15/80\n",
      "3/3 [==============================] - 0s 2ms/step - loss: 0.0672 - accuracy: 0.0000e+00\n",
      "Epoch 16/80\n",
      "3/3 [==============================] - 0s 3ms/step - loss: 0.0669 - accuracy: 0.0000e+00\n",
      "Epoch 17/80\n",
      "3/3 [==============================] - 0s 2ms/step - loss: 0.0682 - accuracy: 0.0000e+00\n",
      "Epoch 18/80\n",
      "3/3 [==============================] - 0s 2ms/step - loss: 0.0725 - accuracy: 0.0000e+00\n",
      "Epoch 19/80\n",
      "3/3 [==============================] - 0s 3ms/step - loss: 0.0643 - accuracy: 0.0000e+00\n",
      "Epoch 20/80\n",
      "3/3 [==============================] - 0s 2ms/step - loss: 0.0713 - accuracy: 0.0000e+00\n",
      "Epoch 21/80\n",
      "3/3 [==============================] - 0s 2ms/step - loss: 0.0659 - accuracy: 0.0000e+00\n",
      "Epoch 22/80\n",
      "3/3 [==============================] - 0s 3ms/step - loss: 0.0653 - accuracy: 0.0000e+00\n",
      "Epoch 23/80\n",
      "3/3 [==============================] - 0s 3ms/step - loss: 0.0741 - accuracy: 0.0000e+00\n",
      "Epoch 24/80\n",
      "3/3 [==============================] - 0s 2ms/step - loss: 0.0628 - accuracy: 0.0000e+00\n",
      "Epoch 25/80\n",
      "3/3 [==============================] - 0s 3ms/step - loss: 0.0750 - accuracy: 0.0000e+00\n",
      "Epoch 26/80\n",
      "3/3 [==============================] - 0s 2ms/step - loss: 0.0689 - accuracy: 0.0000e+00\n",
      "Epoch 27/80\n",
      "3/3 [==============================] - 0s 3ms/step - loss: 0.0693 - accuracy: 0.0000e+00\n",
      "Epoch 28/80\n",
      "3/3 [==============================] - 0s 3ms/step - loss: 0.0684 - accuracy: 0.0000e+00\n",
      "Epoch 29/80\n",
      "3/3 [==============================] - 0s 2ms/step - loss: 0.0655 - accuracy: 0.0000e+00\n",
      "Epoch 30/80\n",
      "3/3 [==============================] - 0s 2ms/step - loss: 0.0676 - accuracy: 0.0000e+00\n",
      "Epoch 31/80\n",
      "3/3 [==============================] - 0s 3ms/step - loss: 0.0644 - accuracy: 0.0000e+00\n",
      "Epoch 32/80\n",
      "3/3 [==============================] - 0s 3ms/step - loss: 0.0707 - accuracy: 0.0000e+00\n",
      "Epoch 33/80\n",
      "3/3 [==============================] - 0s 2ms/step - loss: 0.0655 - accuracy: 0.0000e+00\n",
      "Epoch 34/80\n",
      "3/3 [==============================] - 0s 2ms/step - loss: 0.0644 - accuracy: 0.0000e+00\n",
      "Epoch 35/80\n",
      "3/3 [==============================] - 0s 3ms/step - loss: 0.0642 - accuracy: 0.0000e+00\n",
      "Epoch 36/80\n",
      "3/3 [==============================] - 0s 2ms/step - loss: 0.0644 - accuracy: 0.0000e+00\n",
      "Epoch 37/80\n",
      "3/3 [==============================] - 0s 3ms/step - loss: 0.0646 - accuracy: 0.0000e+00\n",
      "Epoch 38/80\n",
      "3/3 [==============================] - 0s 2ms/step - loss: 0.0671 - accuracy: 0.0000e+00\n",
      "Epoch 39/80\n",
      "3/3 [==============================] - 0s 2ms/step - loss: 0.0781 - accuracy: 0.0000e+00\n",
      "Epoch 40/80\n",
      "3/3 [==============================] - 0s 3ms/step - loss: 0.0694 - accuracy: 0.0000e+00\n",
      "Epoch 41/80\n",
      "3/3 [==============================] - 0s 2ms/step - loss: 0.0633 - accuracy: 0.0000e+00\n",
      "Epoch 42/80\n",
      "3/3 [==============================] - 0s 3ms/step - loss: 0.0713 - accuracy: 0.0000e+00\n",
      "Epoch 43/80\n",
      "3/3 [==============================] - 0s 2ms/step - loss: 0.0833 - accuracy: 0.0000e+00\n",
      "Epoch 44/80\n",
      "3/3 [==============================] - 0s 2ms/step - loss: 0.0668 - accuracy: 0.0000e+00\n",
      "Epoch 45/80\n",
      "3/3 [==============================] - 0s 2ms/step - loss: 0.0704 - accuracy: 0.0000e+00\n",
      "Epoch 46/80\n",
      "3/3 [==============================] - 0s 3ms/step - loss: 0.0670 - accuracy: 0.0000e+00\n",
      "Epoch 47/80\n",
      "3/3 [==============================] - 0s 2ms/step - loss: 0.0625 - accuracy: 0.0000e+00\n",
      "Epoch 48/80\n",
      "3/3 [==============================] - 0s 3ms/step - loss: 0.0714 - accuracy: 0.0000e+00\n",
      "Epoch 49/80\n",
      "3/3 [==============================] - 0s 2ms/step - loss: 0.0651 - accuracy: 0.0000e+00\n",
      "Epoch 50/80\n",
      "3/3 [==============================] - 0s 2ms/step - loss: 0.0632 - accuracy: 0.0000e+00\n",
      "Epoch 51/80\n",
      "3/3 [==============================] - 0s 3ms/step - loss: 0.0653 - accuracy: 0.0000e+00\n",
      "Epoch 52/80\n",
      "3/3 [==============================] - 0s 2ms/step - loss: 0.0634 - accuracy: 0.0000e+00\n",
      "Epoch 53/80\n",
      "3/3 [==============================] - 0s 2ms/step - loss: 0.0669 - accuracy: 0.0000e+00\n",
      "Epoch 54/80\n",
      "3/3 [==============================] - 0s 4ms/step - loss: 0.0697 - accuracy: 0.0000e+00\n",
      "Epoch 55/80\n",
      "3/3 [==============================] - 0s 2ms/step - loss: 0.0692 - accuracy: 0.0000e+00\n",
      "Epoch 56/80\n",
      "3/3 [==============================] - 0s 2ms/step - loss: 0.0695 - accuracy: 0.0000e+00\n",
      "Epoch 57/80\n",
      "3/3 [==============================] - 0s 3ms/step - loss: 0.0634 - accuracy: 0.0000e+00\n",
      "Epoch 58/80\n",
      "3/3 [==============================] - 0s 2ms/step - loss: 0.0651 - accuracy: 0.0000e+00\n",
      "Epoch 59/80\n",
      "3/3 [==============================] - 0s 2ms/step - loss: 0.0716 - accuracy: 0.0000e+00\n",
      "Epoch 60/80\n",
      "3/3 [==============================] - 0s 3ms/step - loss: 0.0794 - accuracy: 0.0000e+00\n",
      "Epoch 61/80\n",
      "3/3 [==============================] - 0s 2ms/step - loss: 0.0850 - accuracy: 0.0000e+00\n",
      "Epoch 62/80\n",
      "3/3 [==============================] - 0s 2ms/step - loss: 0.0831 - accuracy: 0.0000e+00\n",
      "Epoch 63/80\n",
      "3/3 [==============================] - 0s 2ms/step - loss: 0.0849 - accuracy: 0.0000e+00\n",
      "Epoch 64/80\n",
      "3/3 [==============================] - 0s 3ms/step - loss: 0.0761 - accuracy: 0.0000e+00\n",
      "Epoch 65/80\n",
      "3/3 [==============================] - 0s 2ms/step - loss: 0.0735 - accuracy: 0.0000e+00\n",
      "Epoch 66/80\n",
      "3/3 [==============================] - 0s 2ms/step - loss: 0.0741 - accuracy: 0.0000e+00\n",
      "Epoch 67/80\n",
      "3/3 [==============================] - 0s 3ms/step - loss: 0.0678 - accuracy: 0.0000e+00\n",
      "Epoch 68/80\n",
      "3/3 [==============================] - 0s 2ms/step - loss: 0.0656 - accuracy: 0.0000e+00\n",
      "Epoch 69/80\n",
      "3/3 [==============================] - 0s 2ms/step - loss: 0.0636 - accuracy: 0.0000e+00\n",
      "Epoch 70/80\n",
      "3/3 [==============================] - 0s 3ms/step - loss: 0.0620 - accuracy: 0.0000e+00\n",
      "Epoch 71/80\n",
      "3/3 [==============================] - 0s 3ms/step - loss: 0.0629 - accuracy: 0.0000e+00\n",
      "Epoch 72/80\n",
      "3/3 [==============================] - 0s 3ms/step - loss: 0.0645 - accuracy: 0.0000e+00\n",
      "Epoch 73/80\n",
      "3/3 [==============================] - 0s 2ms/step - loss: 0.0616 - accuracy: 0.0000e+00\n",
      "Epoch 74/80\n",
      "3/3 [==============================] - 0s 3ms/step - loss: 0.0616 - accuracy: 0.0000e+00\n",
      "Epoch 75/80\n",
      "3/3 [==============================] - 0s 4ms/step - loss: 0.0614 - accuracy: 0.0000e+00\n",
      "Epoch 76/80\n",
      "3/3 [==============================] - 0s 3ms/step - loss: 0.0612 - accuracy: 0.0000e+00\n",
      "Epoch 77/80\n",
      "3/3 [==============================] - 0s 3ms/step - loss: 0.0624 - accuracy: 0.0000e+00\n",
      "Epoch 78/80\n",
      "3/3 [==============================] - 0s 2ms/step - loss: 0.0622 - accuracy: 0.0000e+00\n",
      "Epoch 79/80\n",
      "3/3 [==============================] - 0s 3ms/step - loss: 0.0659 - accuracy: 0.0000e+00\n",
      "Epoch 80/80\n",
      "3/3 [==============================] - 0s 2ms/step - loss: 0.0631 - accuracy: 0.0000e+00\n"
     ]
    },
    {
     "data": {
      "text/plain": "<tensorflow.python.keras.callbacks.History at 0x21db70aa308>"
     },
     "execution_count": 85,
     "metadata": {},
     "output_type": "execute_result"
    }
   ],
   "source": [
    "model.fit(X, y_true, epochs=80) #150 iteraties het model de loss laten bepalen, deze moet zo klein mogelijk."
   ],
   "metadata": {
    "collapsed": false,
    "pycharm": {
     "name": "#%%\n"
    }
   }
  },
  {
   "cell_type": "code",
   "execution_count": 86,
   "outputs": [],
   "source": [
    "y_pred = model.predict(X)"
   ],
   "metadata": {
    "collapsed": false,
    "pycharm": {
     "name": "#%%\n"
    }
   }
  },
  {
   "cell_type": "code",
   "execution_count": 87,
   "outputs": [
    {
     "data": {
      "text/plain": "[<matplotlib.lines.Line2D at 0x21db73782c8>]"
     },
     "execution_count": 87,
     "metadata": {},
     "output_type": "execute_result"
    },
    {
     "data": {
      "text/plain": "<Figure size 432x288 with 1 Axes>",
      "image/png": "[encoded data removed]"
     },
     "metadata": {
      "needs_background": "light"
     },
     "output_type": "display_data"
    }
   ],
   "source": [
    "#De te bekijken dataset\n",
    "df1.plot.scatter(x='STheta', y='Salnty', c='blue')\n",
    "\n",
    "#De predicted linear regression van deze datapunten\n",
    "plt.plot(X, y_pred, 'r')\n",
    "\n",
    "#Dit grafiek is het meest accurate wat we uit dit model konden krijgen\n",
    "#Conclusie is dat de dataset niet echt goede waardes heeft om linear regressie op toe te passen"
   ],
   "metadata": {
    "collapsed": false,
    "pycharm": {
     "name": "#%%\n"
    }
   }
  },
  {
   "cell_type": "code",
   "execution_count": 23,
   "outputs": [],
   "source": [],
   "metadata": {
    "collapsed": false,
    "pycharm": {
     "name": "#%%\n"
    }
   }
  }
 ],
 "metadata": {
  "kernelspec": {
   "display_name": "Python 3",
   "language": "python",
   "name": "python3"
  },
  "language_info": {
   "codemirror_mode": {
    "name": "ipython",
    "version": 2
   },
   "file_extension": ".py",
   "mimetype": "text/x-python",
   "name": "python",
   "nbconvert_exporter": "python",
   "pygments_lexer": "ipython2",
   "version": "2.7.6"
  }
 },
 "nbformat": 4,
 "nbformat_minor": 0
}
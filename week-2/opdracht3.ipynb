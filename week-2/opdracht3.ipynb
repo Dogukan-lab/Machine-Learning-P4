{
 "cells": [
  {
   "cell_type": "markdown",
   "source": [
    "# Opdracht 5.3: ZTDL 4: Deep Learning Intro – Iris\n",
    " In notebook 4 Deep Learning staat een casus centraal waarin verschillende soorten Iris bloemen op\n",
    " basis van diameters binnen kelk en buiten kelk worden onderscheiden. Bestudeer deze casus heel\n",
    " goed.\n",
    "\n",
    "- Neem het Jupyter Notebook over in een nieuw eigen Notebook\n",
    "- Maak een schets van het neurale netwerk. Geef daarin de weegfactoren weer die moeten\n",
    "    worden bepaald tijdens de training. Hoeveel lagen heeft dit netwerk?\n"
   ],
   "metadata": {
    "collapsed": false,
    "pycharm": {
     "name": "#%% md\n"
    }
   },
   "outputs": []
  },
  {
   "cell_type": "markdown",
   "source": [
    "- In dit model wordt als activation function softmax gebruikt. Waarom wordt daarvoor hier\n",
    "    gekozen?\n",
    "\n",
    "Het is om de waarschijnlijkheid van een septosa, viginica en versicolor te bepalen.\n",
    "Want de uiteindelijke output moet de som zijn van alle output neuronen, dus in dit geval is dat o1 + o2 + o3 = 1.\n",
    "Softmax is een normalisatie functie die 1 moet geven. De neuronen hebben allemaal een waarde tussen 0 en 1 (dus een normaal) die dan de waarschijnlijkheid weergeeft, hoe dichter die neuron op 1 ligt (het is ook representeerbaar als 0% tot 100%), hoe waarschijnlijk het is dat het een septosa, virginica of versicolor kan zijn. Die waarschijnlijkheid moet opgeteld worden en de uiteindelijke waarde van die som moet 1 zijn, anders heb je geen accurate waarden."
   ],
   "metadata": {
    "collapsed": false,
    "pycharm": {
     "name": "#%% md\n"
    }
   },
   "outputs": []
  },
  {
   "cell_type": "markdown",
   "source": [
    "- Onderzoek de invloed van de learning rate op het leerproces. Probeer verschillende waarden uit.\n",
    "    Kijk ook welke informatie je hierover kunt vinden op het Internet. Wat is je conclusie?\n",
    "\n",
    "Een learning rate bepaald de stapgrootte van het neuraal netwerk. Elke epoch komt hij zoveel stappen dichter bij het minimum loss.\n",
    "Een dynamische learning rate kan ervoor zorgen dat de minimum loss beperkt kan worden, doordat een groote stap grootte ervoor kan zorgen dat je over het minimum loss kan stappen, terwijl een kleine stapgrootte overfitting kan veroorzaken omdat je zoveel epoch langer met het model trainen bezig bent."
   ],
   "metadata": {
    "collapsed": false,
    "pycharm": {
     "name": "#%% md\n"
    }
   },
   "outputs": []
  },
  {
   "cell_type": "markdown",
   "source": [
    "- Is hier sprake van overfitting? Licht je antwoord toe.\n",
    "Er is hier geen sprake van overfitting, overfitting is alleen als het model geen generalisatie kan maken, of voor de test data heel laag scoort terwijl de train-data hoog scoort. In dit model is te zien in figuur 4 dat de accurate van de test data gelijk is aan de train data. Dit wordt voorkomen door drop-out toe te passen, wat dit inhoudt is dat elke iteratie/epoch dan 1 van de neuronen van de layers uit staat voor die epoch. Het neuron dat uitstaat, verschilt per epoch waardoor de train- en test data wat accurater worden. Het model past dan generalisatie toe aan de hand van hoe abstract je features zijn. Zodra je dit model in het werkveld toepast moet het kunnen generaliseren en de drop-out manier helpt hier enorm mee.\n",
    "\n",
    "\n",
    "![imageinfo](../pictures/opdracht-5.3a.png)\n",
    "\n",
    "Figuur 4 cyclus van het model trainen"
   ],
   "metadata": {
    "collapsed": false,
    "pycharm": {
     "name": "#%% md\n"
    }
   },
   "outputs": []
  },
  {
   "cell_type": "markdown",
   "source": [
    "- Leg de betekenis van de waarden in het classification report uit, t.w. precision, recall en f1\n",
    "    score.\n",
    "(Zie figuur 5)\n",
    "De precisie van dit model is 100% voor\n",
    "\n",
    "![imageinfo](../pictures/opdracht-5.3b.png)\n",
    "\n",
    "Figuur 5 uitkomst van het model, qua precisie"
   ],
   "metadata": {
    "collapsed": false,
    "pycharm": {
     "name": "#%% md\n"
    }
   },
   "outputs": []
  },
  {
   "cell_type": "markdown",
   "source": [
    "- Welke conclusie trek je hier uit de scores in het classification report t.a.v. de\n",
    "    betrouwbaarheid van de Iris classificatie?\n",
    "\n",
    "De betrouwbaarheid van de classificatie is als volgt: Het model weet vrijwel zeker wat een septosa is, dit is te lezen uit het pricisie- en recall tabel die 1.00 aangeeft dit kan ook gelezen worden als 100% zekerheid. Het model heeft is wel minder accuraat bij het vergelijken van een virginica en versicolor, dit is te zien aan de hand van de precision van 1,2 en recall van 1,2. Hieruit is ook te concluderen dat hij 25/100 nog een incorrecte voorspelling kan uitoefenen."
   ],
   "metadata": {
    "collapsed": false,
    "pycharm": {
     "name": "#%% md\n"
    }
   },
   "outputs": []
  },
  {
   "cell_type": "markdown",
   "source": [
    "- Welke informatie kun je uit de confusion matrix aflezen?\n",
    "\n",
    "Uit de confusion matrix zijn de volgende dingen te lezen: de accurate en recall van het model, dit houdt in hoe vaak een True Positive is gevonden voor de 3 irissen, hoe vaak een True Negative is uitgekomen voor de 3 irissen en hoe vaak een False en True Negative is uitgekomen voor de 3 irissen. Uit deze matrix kan je dus de precisie en de recall berekenen. De F1-scores zijn dan weer uitrekenbaar vanuit de precision en recall ([zie uitwerking van sommen hier](https://towardsdatascience.com/accuracy-precision-recall-or-f1-331fb37c5cb9))."
   ],
   "metadata": {
    "collapsed": false,
    "pycharm": {
     "name": "#%% md\n"
    }
   },
   "outputs": []
  },
  {
   "cell_type": "markdown",
   "source": [
    "\n",
    "- Leg het belang uit van de informatie die je uit de confusion matrix haalt bij het trekken van\n",
    "    conclusies.\n",
    "\n",
    "Het model kan op basis van deze dataset zorgen dat hij 75/100 voorspellingen correct kan geven. De overige zijn twijfels bij de versicolor en verginica, in het tabel (zie figuur 6) is ook te zien dat verginica en versicolor dicht bij elkaar liggen waardoor de voorspelling een kans heeft om incorrect te zijn.\n"
   ],
   "metadata": {
    "collapsed": false,
    "pycharm": {
     "name": "#%% md\n"
    }
   }
  },
  {
   "cell_type": "markdown",
   "source": [],
   "metadata": {
    "collapsed": false,
    "pycharm": {
     "name": "#%% md\n"
    }
   }
  }
 ],
 "metadata": {
  "kernelspec": {
   "display_name": "Python 3",
   "language": "python",
   "name": "python3"
  },
  "language_info": {
   "codemirror_mode": {
    "name": "ipython",
    "version": 2
   },
   "file_extension": ".py",
   "mimetype": "text/x-python",
   "name": "python",
   "nbconvert_exporter": "python",
   "pygments_lexer": "ipython2",
   "version": "2.7.6"
  }
 },
 "nbformat": 4,
 "nbformat_minor": 0
}
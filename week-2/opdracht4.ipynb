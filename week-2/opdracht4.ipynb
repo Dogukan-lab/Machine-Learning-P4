{
 "cells": [
  {
   "cell_type": "markdown",
   "source": [
    "# Opdracht 5.4: Eenvoudig Classificatie vraagstuk\n",
    "- Kies op Kaggle.com (of elders op het Internet) een dataset uit die je interessant vindt en die\n",
    "    niet gebruikt wordt in het ZTDL-notebook.\n",
    "Wij hebben gekozen voor de [Data Science Job Salaries](https://www.kaggle.com/datasets/ruchi798/data-science-job-salaries) dataset."
   ],
   "metadata": {
    "collapsed": false,
    "pycharm": {
     "name": "#%% md\n"
    }
   },
   "outputs": []
  },
  {
   "cell_type": "markdown",
   "source": [
    "- Formuleer je eigen classificatie vraagstuk. Je mag het eenvoudig houden. Het gaat er hierom\n",
    "    dat je een keer zelf het traject hebt doorlopen met een eigen dataset.\n",
    "\n",
    "Wij willen kijken binnen deze dataset hoeveel salaris iemand verdient aan de hand van hun job title.\n",
    "We zullen specifiek naar drie klassen kijken binnen deze dataset en dat zijn:\n",
    "    - Data Scientist\n",
    "    - Machine Learning Engineer\n",
    "    - Data Science Consultant\n",
    "\n",
    "Uiteindelijk willen we dat het model voor deze 3 klasse een voorspelling kan doen hoeveel deze ongeveer zou verdienen."
   ],
   "metadata": {
    "collapsed": false,
    "pycharm": {
     "name": "#%% md\n"
    }
   },
   "outputs": []
  },
  {
   "cell_type": "markdown",
   "source": [
    "- Voer een dataexploratie en visualisatie uit zodat je verstand krijgt van de dataset.\n",
    "    Je mag hierbij code van elders copy-pasten(!) als je de bron erbij vermeld. In deze module gaat het\n",
    "    niet om leren Phyton programmeren maar om het oplossen van een (eenvoudig) classificatie vraagstuk."
   ],
   "metadata": {
    "collapsed": false,
    "pycharm": {
     "name": "#%% md\n"
    }
   },
   "outputs": []
  },
  {
   "cell_type": "code",
   "execution_count": null,
   "outputs": [],
   "source": [],
   "metadata": {
    "collapsed": false,
    "pycharm": {
     "name": "#%%\n"
    }
   }
  },
  {
   "cell_type": "markdown",
   "source": [
    "- Stel een neuraal netwerk op en train deze met de dataset."
   ],
   "metadata": {
    "collapsed": false,
    "pycharm": {
     "name": "#%% md\n"
    }
   },
   "outputs": []
  },
  {
   "cell_type": "code",
   "execution_count": null,
   "outputs": [],
   "source": [],
   "metadata": {
    "collapsed": false,
    "pycharm": {
     "name": "#%%\n"
    }
   }
  },
  {
   "cell_type": "markdown",
   "source": [
    "- Test het resultaat."
   ],
   "metadata": {
    "collapsed": false,
    "pycharm": {
     "name": "#%% md\n"
    }
   },
   "outputs": []
  },
  {
   "cell_type": "code",
   "execution_count": null,
   "outputs": [],
   "source": [],
   "metadata": {
    "collapsed": false,
    "pycharm": {
     "name": "#%%\n"
    }
   }
  },
  {
   "cell_type": "markdown",
   "source": [
    "- Wat is je conclusie?\n",
    "Onze conclusie is: blah blah blah"
   ],
   "metadata": {
    "collapsed": false,
    "pycharm": {
     "name": "#%% md\n"
    }
   }
  },
  {
   "cell_type": "code",
   "execution_count": null,
   "outputs": [],
   "source": [],
   "metadata": {
    "collapsed": false,
    "pycharm": {
     "name": "#%%\n"
    }
   }
  }
 ],
 "metadata": {
  "kernelspec": {
   "display_name": "Python 3",
   "language": "python",
   "name": "python3"
  },
  "language_info": {
   "codemirror_mode": {
    "name": "ipython",
    "version": 2
   },
   "file_extension": ".py",
   "mimetype": "text/x-python",
   "name": "python",
   "nbconvert_exporter": "python",
   "pygments_lexer": "ipython2",
   "version": "2.7.6"
  }
 },
 "nbformat": 4,
 "nbformat_minor": 0
}
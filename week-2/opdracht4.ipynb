{
 "cells": [
  {
   "cell_type": "markdown",
   "source": [
    "# Opdracht 5.4: Eenvoudig Classificatie vraagstuk\n",
    "- Kies op Kaggle.com (of elders op het Internet) een dataset uit die je interessant vindt en die\n",
    "    niet gebruikt wordt in het ZTDL-notebook.\n",
    "Wij hebben gekozen voor de [Data Science Job Salaries](https://www.kaggle.com/datasets/ruchi798/data-science-job-salaries) dataset."
   ],
   "metadata": {
    "collapsed": false,
    "pycharm": {
     "name": "#%% md\n"
    }
   },
   "outputs": []
  },
  {
   "cell_type": "markdown",
   "source": [
    "- Formuleer je eigen classificatie vraagstuk. Je mag het eenvoudig houden. Het gaat er hierom\n",
    "    dat je een keer zelf het traject hebt doorlopen met een eigen dataset.\n",
    "\n",
    "Wij willen kijken binnen deze dataset hoeveel salaris iemand verdient aan de hand van hun job title.\n",
    "We zullen specifiek naar drie klassen kijken binnen deze dataset en dat zijn:\n",
    "    - Data Scientist\n",
    "    - Machine Learning Engineer\n",
    "    - Data Science Consultant\n",
    "\n",
    "Uiteindelijk willen we dat het model voor deze 3 klasse een voorspelling kan doen hoeveel deze ongeveer zou verdienen."
   ],
   "metadata": {
    "collapsed": false,
    "pycharm": {
     "name": "#%% md\n"
    }
   },
   "outputs": []
  },
  {
   "cell_type": "markdown",
   "source": [
    "- Voer een dataexploratie en visualisatie uit zodat je verstand krijgt van de dataset.\n",
    "    Je mag hierbij code van elders copy-pasten(!) als je de bron erbij vermeld. In deze module gaat het\n",
    "    niet om leren Phyton programmeren maar om het oplossen van een (eenvoudig) classificatie vraagstuk."
   ],
   "metadata": {
    "collapsed": false,
    "pycharm": {
     "name": "#%% md\n"
    }
   },
   "outputs": []
  },
  {
   "cell_type": "code",
   "execution_count": 1,
   "outputs": [],
   "source": [
    "%matplotlib inline\n",
    "import matplotlib.pyplot as plt\n",
    "import pandas as pd\n",
    "import numpy as np"
   ],
   "metadata": {
    "collapsed": false,
    "pycharm": {
     "name": "#%%\n"
    }
   }
  },
  {
   "cell_type": "code",
   "execution_count": 2,
   "outputs": [],
   "source": [
    "df = pd.read_csv(\"../datasets/ds_salaries.csv\")"
   ],
   "metadata": {
    "collapsed": false,
    "pycharm": {
     "name": "#%%\n"
    }
   }
  },
  {
   "cell_type": "code",
   "execution_count": 3,
   "outputs": [
    {
     "data": {
      "text/plain": "   Unnamed: 0  work_year experience_level employment_type  \\\n0           0       2020               MI              FT   \n1           1       2020               SE              FT   \n2           2       2020               SE              FT   \n3           3       2020               MI              FT   \n4           4       2020               SE              FT   \n\n                    job_title  salary salary_currency  salary_in_usd  \\\n0              Data Scientist   70000             EUR          79833   \n1  Machine Learning Scientist  260000             USD         260000   \n2           Big Data Engineer   85000             GBP         109024   \n3        Product Data Analyst   20000             USD          20000   \n4   Machine Learning Engineer  150000             USD         150000   \n\n  employee_residence  remote_ratio company_location company_size  \n0                 DE             0               DE            L  \n1                 JP             0               JP            S  \n2                 GB            50               GB            M  \n3                 HN             0               HN            S  \n4                 US            50               US            L  ",
      "text/html": "<div>\n<style scoped>\n    .dataframe tbody tr th:only-of-type {\n        vertical-align: middle;\n    }\n\n    .dataframe tbody tr th {\n        vertical-align: top;\n    }\n\n    .dataframe thead th {\n        text-align: right;\n    }\n</style>\n<table border=\"1\" class=\"dataframe\">\n  <thead>\n    <tr style=\"text-align: right;\">\n      <th></th>\n      <th>Unnamed: 0</th>\n      <th>work_year</th>\n      <th>experience_level</th>\n      <th>employment_type</th>\n      <th>job_title</th>\n      <th>salary</th>\n      <th>salary_currency</th>\n      <th>salary_in_usd</th>\n      <th>employee_residence</th>\n      <th>remote_ratio</th>\n      <th>company_location</th>\n      <th>company_size</th>\n    </tr>\n  </thead>\n  <tbody>\n    <tr>\n      <th>0</th>\n      <td>0</td>\n      <td>2020</td>\n      <td>MI</td>\n      <td>FT</td>\n      <td>Data Scientist</td>\n      <td>70000</td>\n      <td>EUR</td>\n      <td>79833</td>\n      <td>DE</td>\n      <td>0</td>\n      <td>DE</td>\n      <td>L</td>\n    </tr>\n    <tr>\n      <th>1</th>\n      <td>1</td>\n      <td>2020</td>\n      <td>SE</td>\n      <td>FT</td>\n      <td>Machine Learning Scientist</td>\n      <td>260000</td>\n      <td>USD</td>\n      <td>260000</td>\n      <td>JP</td>\n      <td>0</td>\n      <td>JP</td>\n      <td>S</td>\n    </tr>\n    <tr>\n      <th>2</th>\n      <td>2</td>\n      <td>2020</td>\n      <td>SE</td>\n      <td>FT</td>\n      <td>Big Data Engineer</td>\n      <td>85000</td>\n      <td>GBP</td>\n      <td>109024</td>\n      <td>GB</td>\n      <td>50</td>\n      <td>GB</td>\n      <td>M</td>\n    </tr>\n    <tr>\n      <th>3</th>\n      <td>3</td>\n      <td>2020</td>\n      <td>MI</td>\n      <td>FT</td>\n      <td>Product Data Analyst</td>\n      <td>20000</td>\n      <td>USD</td>\n      <td>20000</td>\n      <td>HN</td>\n      <td>0</td>\n      <td>HN</td>\n      <td>S</td>\n    </tr>\n    <tr>\n      <th>4</th>\n      <td>4</td>\n      <td>2020</td>\n      <td>SE</td>\n      <td>FT</td>\n      <td>Machine Learning Engineer</td>\n      <td>150000</td>\n      <td>USD</td>\n      <td>150000</td>\n      <td>US</td>\n      <td>50</td>\n      <td>US</td>\n      <td>L</td>\n    </tr>\n  </tbody>\n</table>\n</div>"
     },
     "execution_count": 3,
     "metadata": {},
     "output_type": "execute_result"
    }
   ],
   "source": [
    "df.head()"
   ],
   "metadata": {
    "collapsed": false,
    "pycharm": {
     "name": "#%%\n"
    }
   }
  },
  {
   "cell_type": "code",
   "execution_count": 4,
   "outputs": [],
   "source": [
    "X = df.loc[(df['job_title'] == 'Data Scientist') | (df['job_title'] == 'Data Science Consultant') |\n",
    "           (df['job_title'] == 'Machine Learning Engineer'), ['remote_ratio', 'salary_in_usd']]"
   ],
   "metadata": {
    "collapsed": false,
    "pycharm": {
     "name": "#%%\n"
    }
   }
  },
  {
   "cell_type": "code",
   "execution_count": 5,
   "outputs": [
    {
     "data": {
      "text/plain": "    remote_ratio  salary_in_usd\n0              0          79833\n4             50         150000\n7             50          35735\n10             0          51321\n11             0          40481",
      "text/html": "<div>\n<style scoped>\n    .dataframe tbody tr th:only-of-type {\n        vertical-align: middle;\n    }\n\n    .dataframe tbody tr th {\n        vertical-align: top;\n    }\n\n    .dataframe thead th {\n        text-align: right;\n    }\n</style>\n<table border=\"1\" class=\"dataframe\">\n  <thead>\n    <tr style=\"text-align: right;\">\n      <th></th>\n      <th>remote_ratio</th>\n      <th>salary_in_usd</th>\n    </tr>\n  </thead>\n  <tbody>\n    <tr>\n      <th>0</th>\n      <td>0</td>\n      <td>79833</td>\n    </tr>\n    <tr>\n      <th>4</th>\n      <td>50</td>\n      <td>150000</td>\n    </tr>\n    <tr>\n      <th>7</th>\n      <td>50</td>\n      <td>35735</td>\n    </tr>\n    <tr>\n      <th>10</th>\n      <td>0</td>\n      <td>51321</td>\n    </tr>\n    <tr>\n      <th>11</th>\n      <td>0</td>\n      <td>40481</td>\n    </tr>\n  </tbody>\n</table>\n</div>"
     },
     "execution_count": 5,
     "metadata": {},
     "output_type": "execute_result"
    }
   ],
   "source": [
    "X.head()"
   ],
   "metadata": {
    "collapsed": false,
    "pycharm": {
     "name": "#%%\n"
    }
   }
  },
  {
   "cell_type": "code",
   "execution_count": 6,
   "outputs": [
    {
     "data": {
      "text/plain": "array(['Data Scientist', 'Machine Learning Engineer',\n       'Data Science Consultant'], dtype=object)"
     },
     "execution_count": 6,
     "metadata": {},
     "output_type": "execute_result"
    }
   ],
   "source": [
    "df = df.loc[(df['job_title'] == 'Data Scientist') | (df['job_title'] == 'Data Science Consultant') |\n",
    "            (df['job_title'] == 'Machine Learning Engineer')]\n",
    "target_names = df['job_title'].unique()\n",
    "target_names"
   ],
   "metadata": {
    "collapsed": false,
    "pycharm": {
     "name": "#%%\n"
    }
   }
  },
  {
   "cell_type": "code",
   "execution_count": 7,
   "outputs": [
    {
     "data": {
      "text/plain": "{'Data Scientist': 0,\n 'Machine Learning Engineer': 1,\n 'Data Science Consultant': 2}"
     },
     "execution_count": 7,
     "metadata": {},
     "output_type": "execute_result"
    }
   ],
   "source": [
    "target_dict = {n:i for i, n in enumerate(target_names)}\n",
    "target_dict"
   ],
   "metadata": {
    "collapsed": false,
    "pycharm": {
     "name": "#%%\n"
    }
   }
  },
  {
   "cell_type": "code",
   "execution_count": 8,
   "outputs": [],
   "source": [
    "y = df['job_title'].map(target_dict)"
   ],
   "metadata": {
    "collapsed": false,
    "pycharm": {
     "name": "#%%\n"
    }
   }
  },
  {
   "cell_type": "code",
   "execution_count": 9,
   "outputs": [],
   "source": [
    "#df.plot.bar(x='job_title', y='salary_in_usd')"
   ],
   "metadata": {
    "collapsed": false,
    "pycharm": {
     "name": "#%%\n"
    }
   }
  },
  {
   "cell_type": "markdown",
   "source": [
    "- Stel een neuraal netwerk op en train deze met de dataset."
   ],
   "metadata": {
    "collapsed": false,
    "pycharm": {
     "name": "#%% md\n"
    }
   },
   "outputs": []
  },
  {
   "cell_type": "code",
   "execution_count": 10,
   "outputs": [],
   "source": [
    "from tensorflow.keras.utils import to_categorical"
   ],
   "metadata": {
    "collapsed": false,
    "pycharm": {
     "name": "#%%\n"
    }
   }
  },
  {
   "cell_type": "code",
   "execution_count": 11,
   "outputs": [],
   "source": [
    "y_cat = to_categorical(y).astype(np.float32)"
   ],
   "metadata": {
    "collapsed": false,
    "pycharm": {
     "name": "#%%\n"
    }
   }
  },
  {
   "cell_type": "code",
   "execution_count": 12,
   "outputs": [
    {
     "data": {
      "text/plain": "array([[1., 0., 0.],\n       [0., 1., 0.],\n       [1., 0., 0.],\n       [1., 0., 0.],\n       [1., 0., 0.],\n       [1., 0., 0.],\n       [0., 0., 1.],\n       [0., 1., 0.],\n       [1., 0., 0.],\n       [0., 0., 1.]], dtype=float32)"
     },
     "execution_count": 12,
     "metadata": {},
     "output_type": "execute_result"
    }
   ],
   "source": [
    "y_cat[:10]"
   ],
   "metadata": {
    "collapsed": false,
    "pycharm": {
     "name": "#%%\n"
    }
   }
  },
  {
   "cell_type": "code",
   "execution_count": 13,
   "outputs": [
    {
     "data": {
      "text/plain": "(191, 2)"
     },
     "execution_count": 13,
     "metadata": {},
     "output_type": "execute_result"
    }
   ],
   "source": [
    "X.values.shape[:]"
   ],
   "metadata": {
    "collapsed": false,
    "pycharm": {
     "name": "#%%\n"
    }
   }
  },
  {
   "cell_type": "code",
   "execution_count": 14,
   "outputs": [],
   "source": [
    "from sklearn.model_selection import train_test_split"
   ],
   "metadata": {
    "collapsed": false,
    "pycharm": {
     "name": "#%%\n"
    }
   }
  },
  {
   "cell_type": "code",
   "execution_count": 15,
   "outputs": [],
   "source": [
    "from sklearn.preprocessing import StandardScaler\n",
    "\n",
    "X_train, X_test, y_train, y_test = train_test_split(X.values, y_cat,\n",
    "                                                    test_size=0.2,\n",
    "                                                    random_state=42)"
   ],
   "metadata": {
    "collapsed": false,
    "pycharm": {
     "name": "#%%\n"
    }
   }
  },
  {
   "cell_type": "code",
   "execution_count": 18,
   "outputs": [],
   "source": [
    "from tensorflow.keras.models import Sequential\n",
    "from tensorflow.keras.layers import Dense\n",
    "from tensorflow.keras.optimizers import SGD, Adam\n",
    "from sklearn.metrics import classification_report\n",
    "from sklearn.metrics import accuracy_score, confusion_matrix"
   ],
   "metadata": {
    "collapsed": false,
    "pycharm": {
     "name": "#%%\n"
    }
   }
  },
  {
   "cell_type": "code",
   "execution_count": 25,
   "outputs": [],
   "source": [
    "model = Sequential()\n",
    "model.add(Dense(3, input_shape=(2,), activation='softmax'))\n",
    "\n",
    "model.compile(Adam(learning_rate=0.1),\n",
    "              loss='categorical_crossentropy',\n",
    "              metrics=['accuracy'])"
   ],
   "metadata": {
    "collapsed": false,
    "pycharm": {
     "name": "#%%\n"
    }
   }
  },
  {
   "cell_type": "code",
   "execution_count": 26,
   "outputs": [
    {
     "name": "stdout",
     "output_type": "stream",
     "text": [
      "Model: \"sequential_1\"\n",
      "_________________________________________________________________\n",
      "Layer (type)                 Output Shape              Param #   \n",
      "=================================================================\n",
      "dense_2 (Dense)              (None, 3)                 9         \n",
      "=================================================================\n",
      "Total params: 9\n",
      "Trainable params: 9\n",
      "Non-trainable params: 0\n",
      "_________________________________________________________________\n"
     ]
    }
   ],
   "source": [
    "model.summary()"
   ],
   "metadata": {
    "collapsed": false,
    "pycharm": {
     "name": "#%%\n"
    }
   }
  },
  {
   "cell_type": "markdown",
   "source": [
    "- Test het resultaat."
   ],
   "metadata": {
    "collapsed": false,
    "pycharm": {
     "name": "#%% md\n"
    }
   },
   "outputs": []
  },
  {
   "cell_type": "code",
   "execution_count": 27,
   "outputs": [
    {
     "name": "stdout",
     "output_type": "stream",
     "text": [
      "Epoch 1/50\n",
      "5/5 [==============================] - 1s 54ms/step - loss: 66904.3594 - accuracy: 0.1985 - val_loss: 51436.0000 - val_accuracy: 0.0000e+00\n",
      "Epoch 2/50\n",
      "5/5 [==============================] - 0s 8ms/step - loss: 15719.0479 - accuracy: 0.2500 - val_loss: 3582.4294 - val_accuracy: 0.8750\n",
      "Epoch 3/50\n",
      "5/5 [==============================] - 0s 8ms/step - loss: 8047.6133 - accuracy: 0.7132 - val_loss: 2969.1987 - val_accuracy: 0.8750\n",
      "Epoch 4/50\n",
      "5/5 [==============================] - 0s 9ms/step - loss: 5353.1958 - accuracy: 0.6838 - val_loss: 8991.6357 - val_accuracy: 0.1250\n",
      "Epoch 5/50\n",
      "5/5 [==============================] - 0s 9ms/step - loss: 5250.1074 - accuracy: 0.4118 - val_loss: 2289.4839 - val_accuracy: 0.8750\n",
      "Epoch 6/50\n",
      "5/5 [==============================] - 0s 9ms/step - loss: 7000.6792 - accuracy: 0.7132 - val_loss: 2005.7515 - val_accuracy: 0.8750\n",
      "Epoch 7/50\n",
      "5/5 [==============================] - 0s 9ms/step - loss: 4620.5269 - accuracy: 0.6985 - val_loss: 5969.8560 - val_accuracy: 0.1250\n",
      "Epoch 8/50\n",
      "5/5 [==============================] - 0s 8ms/step - loss: 4776.6865 - accuracy: 0.4191 - val_loss: 1923.2871 - val_accuracy: 0.8750\n",
      "Epoch 9/50\n",
      "5/5 [==============================] - 0s 8ms/step - loss: 6451.3101 - accuracy: 0.7132 - val_loss: 1479.1199 - val_accuracy: 0.8750\n",
      "Epoch 10/50\n",
      "5/5 [==============================] - 0s 9ms/step - loss: 3967.6926 - accuracy: 0.6103 - val_loss: 3039.1396 - val_accuracy: 0.1250\n",
      "Epoch 11/50\n",
      "5/5 [==============================] - 0s 8ms/step - loss: 3877.9277 - accuracy: 0.5882 - val_loss: 733.0088 - val_accuracy: 0.8750\n",
      "Epoch 12/50\n",
      "5/5 [==============================] - 0s 9ms/step - loss: 3346.7671 - accuracy: 0.6544 - val_loss: 2153.6123 - val_accuracy: 0.1250\n",
      "Epoch 13/50\n",
      "5/5 [==============================] - 0s 8ms/step - loss: 3710.9941 - accuracy: 0.5735 - val_loss: 628.0732 - val_accuracy: 0.8750\n",
      "Epoch 14/50\n",
      "5/5 [==============================] - 0s 8ms/step - loss: 3024.8706 - accuracy: 0.5000 - val_loss: 313.0527 - val_accuracy: 0.8750\n",
      "Epoch 15/50\n",
      "5/5 [==============================] - 0s 8ms/step - loss: 2755.9043 - accuracy: 0.4632 - val_loss: 720.2786 - val_accuracy: 0.8750\n",
      "Epoch 16/50\n",
      "5/5 [==============================] - 0s 8ms/step - loss: 3203.5710 - accuracy: 0.7132 - val_loss: 2665.0740 - val_accuracy: 0.1250\n",
      "Epoch 17/50\n",
      "5/5 [==============================] - 0s 9ms/step - loss: 2788.1121 - accuracy: 0.4191 - val_loss: 1797.2729 - val_accuracy: 0.8750\n",
      "Epoch 18/50\n",
      "5/5 [==============================] - 0s 8ms/step - loss: 5085.2749 - accuracy: 0.7132 - val_loss: 1160.5042 - val_accuracy: 0.8750\n",
      "Epoch 19/50\n",
      "5/5 [==============================] - 0s 9ms/step - loss: 2850.9199 - accuracy: 0.4485 - val_loss: 430.7385 - val_accuracy: 0.8750\n",
      "Epoch 20/50\n",
      "5/5 [==============================] - 0s 9ms/step - loss: 2152.7566 - accuracy: 0.6985 - val_loss: 1610.0540 - val_accuracy: 0.1250\n",
      "Epoch 21/50\n",
      "5/5 [==============================] - 0s 8ms/step - loss: 2037.3309 - accuracy: 0.6250 - val_loss: 261.5613 - val_accuracy: 0.8750\n",
      "Epoch 22/50\n",
      "5/5 [==============================] - 0s 9ms/step - loss: 1172.7126 - accuracy: 0.6103 - val_loss: 38.7712 - val_accuracy: 0.8750\n",
      "Epoch 23/50\n",
      "5/5 [==============================] - 0s 14ms/step - loss: 1136.2458 - accuracy: 0.5662 - val_loss: 257.6826 - val_accuracy: 0.8750\n",
      "Epoch 24/50\n",
      "5/5 [==============================] - 0s 9ms/step - loss: 1075.0879 - accuracy: 0.5956 - val_loss: 282.2261 - val_accuracy: 0.8750\n",
      "Epoch 25/50\n",
      "5/5 [==============================] - 0s 10ms/step - loss: 895.5335 - accuracy: 0.5956 - val_loss: 919.4348 - val_accuracy: 0.1250\n",
      "Epoch 26/50\n",
      "5/5 [==============================] - 0s 11ms/step - loss: 821.6227 - accuracy: 0.4559 - val_loss: 514.7971 - val_accuracy: 0.8750\n",
      "Epoch 27/50\n",
      "5/5 [==============================] - 0s 11ms/step - loss: 1014.3566 - accuracy: 0.5588 - val_loss: 376.5857 - val_accuracy: 0.8750\n",
      "Epoch 28/50\n",
      "5/5 [==============================] - 0s 9ms/step - loss: 1298.2150 - accuracy: 0.7132 - val_loss: 3528.5503 - val_accuracy: 0.0000e+00\n",
      "Epoch 29/50\n",
      "5/5 [==============================] - 0s 9ms/step - loss: 1272.4846 - accuracy: 0.4044 - val_loss: 919.4038 - val_accuracy: 0.8750\n",
      "Epoch 30/50\n",
      "5/5 [==============================] - 0s 9ms/step - loss: 2149.4043 - accuracy: 0.7132 - val_loss: 2750.0557 - val_accuracy: 0.1250\n",
      "Epoch 31/50\n",
      "5/5 [==============================] - 0s 9ms/step - loss: 1732.0653 - accuracy: 0.4779 - val_loss: 1918.9238 - val_accuracy: 0.8750\n",
      "Epoch 32/50\n",
      "5/5 [==============================] - 0s 9ms/step - loss: 4159.3535 - accuracy: 0.7132 - val_loss: 1079.9773 - val_accuracy: 0.8750\n",
      "Epoch 33/50\n",
      "5/5 [==============================] - 0s 9ms/step - loss: 2160.2346 - accuracy: 0.4118 - val_loss: 604.5515 - val_accuracy: 0.8750\n",
      "Epoch 34/50\n",
      "5/5 [==============================] - 0s 11ms/step - loss: 1437.4818 - accuracy: 0.6691 - val_loss: 109.4250 - val_accuracy: 0.8750\n",
      "Epoch 35/50\n",
      "5/5 [==============================] - 0s 11ms/step - loss: 567.5617 - accuracy: 0.6544 - val_loss: 310.1482 - val_accuracy: 0.8750\n",
      "Epoch 36/50\n",
      "5/5 [==============================] - 0s 9ms/step - loss: 828.8403 - accuracy: 0.6912 - val_loss: 52.9041 - val_accuracy: 0.8750\n",
      "Epoch 37/50\n",
      "5/5 [==============================] - 0s 8ms/step - loss: 536.3705 - accuracy: 0.6397 - val_loss: 3152.3682 - val_accuracy: 0.0000e+00\n",
      "Epoch 38/50\n",
      "5/5 [==============================] - 0s 9ms/step - loss: 1158.6920 - accuracy: 0.4706 - val_loss: 210.5569 - val_accuracy: 0.1875\n",
      "Epoch 39/50\n",
      "5/5 [==============================] - 0s 8ms/step - loss: 796.2844 - accuracy: 0.6691 - val_loss: 538.8195 - val_accuracy: 0.1250\n",
      "Epoch 40/50\n",
      "5/5 [==============================] - 0s 8ms/step - loss: 1057.3247 - accuracy: 0.5221 - val_loss: 553.1211 - val_accuracy: 0.8750\n",
      "Epoch 41/50\n",
      "5/5 [==============================] - 0s 8ms/step - loss: 1606.6479 - accuracy: 0.7132 - val_loss: 4107.2490 - val_accuracy: 0.1250\n",
      "Epoch 42/50\n",
      "5/5 [==============================] - 0s 8ms/step - loss: 2597.4858 - accuracy: 0.3676 - val_loss: 1947.4309 - val_accuracy: 0.8750\n",
      "Epoch 43/50\n",
      "5/5 [==============================] - 0s 8ms/step - loss: 4361.2949 - accuracy: 0.7132 - val_loss: 1398.3850 - val_accuracy: 0.8750\n",
      "Epoch 44/50\n",
      "5/5 [==============================] - 0s 9ms/step - loss: 1614.1810 - accuracy: 0.5956 - val_loss: 1721.1155 - val_accuracy: 0.1250\n",
      "Epoch 45/50\n",
      "5/5 [==============================] - 0s 10ms/step - loss: 1559.2432 - accuracy: 0.6324 - val_loss: 588.7905 - val_accuracy: 0.8750\n",
      "Epoch 46/50\n",
      "5/5 [==============================] - 0s 12ms/step - loss: 1065.2356 - accuracy: 0.5074 - val_loss: 473.6750 - val_accuracy: 0.8750\n",
      "Epoch 47/50\n",
      "5/5 [==============================] - 0s 10ms/step - loss: 1191.4630 - accuracy: 0.5147 - val_loss: 180.1355 - val_accuracy: 0.1875\n",
      "Epoch 48/50\n",
      "5/5 [==============================] - 0s 8ms/step - loss: 1740.6367 - accuracy: 0.5662 - val_loss: 875.9211 - val_accuracy: 0.8750\n",
      "Epoch 49/50\n",
      "5/5 [==============================] - 0s 8ms/step - loss: 2010.1917 - accuracy: 0.4706 - val_loss: 323.6094 - val_accuracy: 0.8750\n",
      "Epoch 50/50\n",
      "5/5 [==============================] - 0s 8ms/step - loss: 1156.5635 - accuracy: 0.5956 - val_loss: 57.0923 - val_accuracy: 0.8750\n"
     ]
    },
    {
     "data": {
      "text/plain": "<tensorflow.python.keras.callbacks.History at 0x1fd75de5288>"
     },
     "execution_count": 27,
     "metadata": {},
     "output_type": "execute_result"
    }
   ],
   "source": [
    "model.fit(\n",
    "    X_train,\n",
    "    y_train,\n",
    "    epochs=50,\n",
    "    validation_split=0.1)"
   ],
   "metadata": {
    "collapsed": false,
    "pycharm": {
     "name": "#%%\n"
    }
   }
  },
  {
   "cell_type": "markdown",
   "source": [
    "- Wat is je conclusie?\n",
    "Onze conclusie is dat de gekozen dataset te klein is om met zekerheid de hypothese te beweren. Door ook nog overfitting is het model al helemaal inaccurate, waardoor dit geen goede manier van opbouw is."
   ],
   "metadata": {
    "collapsed": false,
    "pycharm": {
     "name": "#%% md\n"
    }
   }
  },
  {
   "cell_type": "code",
   "execution_count": 28,
   "outputs": [],
   "source": [
    "y_pred = model.predict(X_test)"
   ],
   "metadata": {
    "collapsed": false,
    "pycharm": {
     "name": "#%%\n"
    }
   }
  },
  {
   "cell_type": "code",
   "execution_count": 29,
   "outputs": [],
   "source": [
    "y_test_class = np.argmax(y_test, axis=1)\n",
    "y_pred_class = np.argmax(y_pred, axis=1)"
   ],
   "metadata": {
    "collapsed": false,
    "pycharm": {
     "name": "#%%\n"
    }
   }
  },
  {
   "cell_type": "code",
   "execution_count": 30,
   "outputs": [
    {
     "ename": "ValueError",
     "evalue": "Classification metrics can't handle a mix of multilabel-indicator and continuous-multioutput targets",
     "output_type": "error",
     "traceback": [
      "\u001B[1;31m---------------------------------------------------------------------------\u001B[0m",
      "\u001B[1;31mValueError\u001B[0m                                Traceback (most recent call last)",
      "\u001B[1;32m~\\AppData\\Local\\Temp\\ipykernel_2684\\2602375971.py\u001B[0m in \u001B[0;36m<module>\u001B[1;34m\u001B[0m\n\u001B[1;32m----> 1\u001B[1;33m \u001B[0mprint\u001B[0m\u001B[1;33m(\u001B[0m\u001B[0mclassification_report\u001B[0m\u001B[1;33m(\u001B[0m\u001B[0my_test\u001B[0m\u001B[1;33m,\u001B[0m \u001B[0my_pred\u001B[0m\u001B[1;33m)\u001B[0m\u001B[1;33m)\u001B[0m\u001B[1;33m\u001B[0m\u001B[1;33m\u001B[0m\u001B[0m\n\u001B[0m",
      "\u001B[1;32mC:\\Anacondont\\envs\\mlp4\\lib\\site-packages\\sklearn\\utils\\validation.py\u001B[0m in \u001B[0;36minner_f\u001B[1;34m(*args, **kwargs)\u001B[0m\n\u001B[0;32m     61\u001B[0m             \u001B[0mextra_args\u001B[0m \u001B[1;33m=\u001B[0m \u001B[0mlen\u001B[0m\u001B[1;33m(\u001B[0m\u001B[0margs\u001B[0m\u001B[1;33m)\u001B[0m \u001B[1;33m-\u001B[0m \u001B[0mlen\u001B[0m\u001B[1;33m(\u001B[0m\u001B[0mall_args\u001B[0m\u001B[1;33m)\u001B[0m\u001B[1;33m\u001B[0m\u001B[1;33m\u001B[0m\u001B[0m\n\u001B[0;32m     62\u001B[0m             \u001B[1;32mif\u001B[0m \u001B[0mextra_args\u001B[0m \u001B[1;33m<=\u001B[0m \u001B[1;36m0\u001B[0m\u001B[1;33m:\u001B[0m\u001B[1;33m\u001B[0m\u001B[1;33m\u001B[0m\u001B[0m\n\u001B[1;32m---> 63\u001B[1;33m                 \u001B[1;32mreturn\u001B[0m \u001B[0mf\u001B[0m\u001B[1;33m(\u001B[0m\u001B[1;33m*\u001B[0m\u001B[0margs\u001B[0m\u001B[1;33m,\u001B[0m \u001B[1;33m**\u001B[0m\u001B[0mkwargs\u001B[0m\u001B[1;33m)\u001B[0m\u001B[1;33m\u001B[0m\u001B[1;33m\u001B[0m\u001B[0m\n\u001B[0m\u001B[0;32m     64\u001B[0m \u001B[1;33m\u001B[0m\u001B[0m\n\u001B[0;32m     65\u001B[0m             \u001B[1;31m# extra_args > 0\u001B[0m\u001B[1;33m\u001B[0m\u001B[1;33m\u001B[0m\u001B[1;33m\u001B[0m\u001B[0m\n",
      "\u001B[1;32mC:\\Anacondont\\envs\\mlp4\\lib\\site-packages\\sklearn\\metrics\\_classification.py\u001B[0m in \u001B[0;36mclassification_report\u001B[1;34m(y_true, y_pred, labels, target_names, sample_weight, digits, output_dict, zero_division)\u001B[0m\n\u001B[0;32m   1968\u001B[0m     \"\"\"\n\u001B[0;32m   1969\u001B[0m \u001B[1;33m\u001B[0m\u001B[0m\n\u001B[1;32m-> 1970\u001B[1;33m     \u001B[0my_type\u001B[0m\u001B[1;33m,\u001B[0m \u001B[0my_true\u001B[0m\u001B[1;33m,\u001B[0m \u001B[0my_pred\u001B[0m \u001B[1;33m=\u001B[0m \u001B[0m_check_targets\u001B[0m\u001B[1;33m(\u001B[0m\u001B[0my_true\u001B[0m\u001B[1;33m,\u001B[0m \u001B[0my_pred\u001B[0m\u001B[1;33m)\u001B[0m\u001B[1;33m\u001B[0m\u001B[1;33m\u001B[0m\u001B[0m\n\u001B[0m\u001B[0;32m   1971\u001B[0m \u001B[1;33m\u001B[0m\u001B[0m\n\u001B[0;32m   1972\u001B[0m     \u001B[1;32mif\u001B[0m \u001B[0mlabels\u001B[0m \u001B[1;32mis\u001B[0m \u001B[1;32mNone\u001B[0m\u001B[1;33m:\u001B[0m\u001B[1;33m\u001B[0m\u001B[1;33m\u001B[0m\u001B[0m\n",
      "\u001B[1;32mC:\\Anacondont\\envs\\mlp4\\lib\\site-packages\\sklearn\\metrics\\_classification.py\u001B[0m in \u001B[0;36m_check_targets\u001B[1;34m(y_true, y_pred)\u001B[0m\n\u001B[0;32m     91\u001B[0m     \u001B[1;32mif\u001B[0m \u001B[0mlen\u001B[0m\u001B[1;33m(\u001B[0m\u001B[0my_type\u001B[0m\u001B[1;33m)\u001B[0m \u001B[1;33m>\u001B[0m \u001B[1;36m1\u001B[0m\u001B[1;33m:\u001B[0m\u001B[1;33m\u001B[0m\u001B[1;33m\u001B[0m\u001B[0m\n\u001B[0;32m     92\u001B[0m         raise ValueError(\"Classification metrics can't handle a mix of {0} \"\n\u001B[1;32m---> 93\u001B[1;33m                          \"and {1} targets\".format(type_true, type_pred))\n\u001B[0m\u001B[0;32m     94\u001B[0m \u001B[1;33m\u001B[0m\u001B[0m\n\u001B[0;32m     95\u001B[0m     \u001B[1;31m# We can't have more than one value on y_type => The set is no more needed\u001B[0m\u001B[1;33m\u001B[0m\u001B[1;33m\u001B[0m\u001B[1;33m\u001B[0m\u001B[0m\n",
      "\u001B[1;31mValueError\u001B[0m: Classification metrics can't handle a mix of multilabel-indicator and continuous-multioutput targets"
     ]
    }
   ],
   "source": [
    "print(classification_report(y_test, y_pred))"
   ],
   "metadata": {
    "collapsed": false,
    "pycharm": {
     "name": "#%%\n"
    }
   }
  },
  {
   "cell_type": "code",
   "execution_count": 31,
   "outputs": [
    {
     "data": {
      "text/plain": "array([[32,  0,  0],\n       [ 5,  0,  0],\n       [ 2,  0,  0]], dtype=int64)"
     },
     "execution_count": 31,
     "metadata": {},
     "output_type": "execute_result"
    }
   ],
   "source": [
    "confusion_matrix(y_test_class, y_pred_class)"
   ],
   "metadata": {
    "collapsed": false,
    "pycharm": {
     "name": "#%%\n"
    }
   }
  },
  {
   "cell_type": "code",
   "execution_count": null,
   "outputs": [],
   "source": [],
   "metadata": {
    "collapsed": false,
    "pycharm": {
     "name": "#%%\n"
    }
   }
  }
 ],
 "metadata": {
  "kernelspec": {
   "display_name": "Python 3",
   "language": "python",
   "name": "python3"
  },
  "language_info": {
   "codemirror_mode": {
    "name": "ipython",
    "version": 2
   },
   "file_extension": ".py",
   "mimetype": "text/x-python",
   "name": "python",
   "nbconvert_exporter": "python",
   "pygments_lexer": "ipython2",
   "version": "2.7.6"
  }
 },
 "nbformat": 4,
 "nbformat_minor": 0
}
{
 "cells": [
  {
   "cell_type": "markdown",
   "source": [
    "# Opdracht 5.2: ZTDL 4: Deep Learning Intro – deep model\n",
    "- Bestudeer in ZTDL 4 het Deep Model dat wordt toegepast op de dataset, zie ook figuur 11.\n",
    "- Maak een schets van het neurale netwerk. Geef daarin de weegfactoren weer die\n",
    "    moeten worden bepaald tijdens de training. Hoeveel lagen heeft dit netwerk?\n",
    "\n",
    "Het structuur bestaat uit vier lagen een input- en output laag en daartussenin twee hidden layers.\n",
    "Zie figuur 2 voor het complete representatie van het neurale netwerk\n",
    "\n",
    "![imageinfo](../pictures/opdracht-5.2.png)\n",
    "\n",
    "Figuur 2 Representatie van deep model"
   ],
   "metadata": {
    "collapsed": false,
    "pycharm": {
     "name": "#%% md\n"
    }
   },
   "outputs": []
  },
  {
   "cell_type": "markdown",
   "source": [
    " - Welke optimizer wordt hier toegepast? Leg in eigen woorden uit wat i.h.a. de functie is\n",
    "    van een optimizer.\n",
    "\n",
    "De optimizer die in dit neuraal netwerk wordt gebruikt is de Adam optimizer.\n",
    "Optimizers worden gebruikt om de weegfactoren/leervermogen binnen een neuraal netwerk aan te passen.\n",
    "Dit is om dan uiteindelijk een neuraal netwerk te hebben die accurate voorspellingen kan uitoefenen."
   ],
   "metadata": {
    "collapsed": false,
    "pycharm": {
     "name": "#%% md\n"
    }
   },
   "outputs": []
  },
  {
   "cell_type": "markdown",
   "source": [
    "- Wat is je conclusie op basis van accuracy scores van de trainingset en de testset? M.a.w.\n",
    "    hoe goed is classificatie?\n",
    "\n",
    "De classificatie is tussen 1.0 en 0.95.. waaruit te concluderen is dat het netwerk accurate voorspellingen kan doen."
   ],
   "metadata": {
    "collapsed": false,
    "pycharm": {
     "name": "#%% md\n"
    }
   },
   "outputs": []
  },
  {
   "cell_type": "markdown",
   "source": [
    "- Is hier sprake van overfitting? Licht je antwoord toe.\n",
    "\n",
    "In dit geval is er geen sprake van overfitting, dit is te bewijzen doordat het test set beter scoort dan de train set (zie figuur 3).\n"
   ],
   "metadata": {
    "collapsed": false,
    "pycharm": {
     "name": "#%% md\n"
    }
   }
  },
  {
   "cell_type": "markdown",
   "source": [
    "![imageinfo]( ../pictures/opdracht-5.2b.png)\n",
    "Figuur 3 Neural netwerk scores"
   ],
   "metadata": {
    "collapsed": false,
    "pycharm": {
     "name": "#%% md\n"
    }
   }
  },
  {
   "cell_type": "code",
   "execution_count": null,
   "outputs": [],
   "source": [],
   "metadata": {
    "collapsed": false,
    "pycharm": {
     "name": "#%%\n"
    }
   }
  }
 ],
 "metadata": {
  "kernelspec": {
   "display_name": "Python 3",
   "language": "python",
   "name": "python3"
  },
  "language_info": {
   "codemirror_mode": {
    "name": "ipython",
    "version": 2
   },
   "file_extension": ".py",
   "mimetype": "text/x-python",
   "name": "python",
   "nbconvert_exporter": "python",
   "pygments_lexer": "ipython2",
   "version": "2.7.6"
  }
 },
 "nbformat": 4,
 "nbformat_minor": 0
}
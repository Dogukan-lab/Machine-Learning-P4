{
 "cells": [
  {
   "cell_type": "markdown",
   "source": [
    "# Opdracht 5.1: ZTDL 4: Deep Learning Intro – shallow model\n",
    "Bestudeer Figuur 11: Dataset in ZTDL 4 bij toepassing van het shallow model en deep model\n",
    "- Bestudeer in ZTDL 4 het Shallow Model dat wordt toegepast op de dataset, zie ook figuur 11."
   ],
   "metadata": {
    "collapsed": false,
    "pycharm": {
     "name": "#%% md\n"
    }
   },
   "outputs": []
  },
  {
   "cell_type": "markdown",
   "source": [
    "- Maak een schets van het neurale netwerk. Geef daarin de weegfactoren weer die\n",
    "    moeten worden bepaald tijdens de training\n",
    "\n",
    "Zie figuur 1\n",
    "Om achter deze wegingen plus layer achter te komen worden deze functies gebruikt:"
   ],
   "metadata": {
    "collapsed": false,
    "pycharm": {
     "name": "#%% md\n"
    }
   },
   "outputs": []
  },
  {
   "cell_type": "code",
   "execution_count": null,
   "outputs": [],
   "source": [
    "model.get_weights() #haalt alle gewichten van het model op\n",
    "plot_model(model, #Het model dat gevisualiseerd wordt\n",
    "           show_shapes=True, #Structuur van het model weergeven\n",
    "           show_layer_names=True, #Namen van de lagen weergeven\n",
    "           to_file='img.png', #Naar een file schrijven\n",
    "           rankdir='LR') #Op welke manier het model gerendered wordt"
   ],
   "metadata": {
    "collapsed": false,
    "pycharm": {
     "name": "#%%\n"
    }
   }
  },
  {
   "cell_type": "markdown",
   "source": [
    "![image.info](../pictures/opdracht-5.1.png)\n",
    "\n",
    "Figuur 1 Structuur van het shallow model"
   ],
   "metadata": {
    "collapsed": false,
    "pycharm": {
     "name": "#%% md\n"
    }
   }
  },
  {
   "cell_type": "markdown",
   "source": [
    "- Waarom werkt het shallow model hier niet?\n",
    "![image.info](../pictures/shallow_model.png)"
   ],
   "metadata": {
    "collapsed": false,
    "pycharm": {
     "name": "#%% md\n"
    }
   }
  },
  {
   "cell_type": "markdown",
   "source": [
    "Het shallow model in het figuur hierboven werkt niet, omdat het linear kijkt naar een periodieke functie.\n",
    "Ook in het plaatje is te zien dat de shallow model niet heel zeker is in het midden of het nou rood of blauw moet zijn. Veel rode kruizen zitten ook in het blauwe gedeelte, waardoor ze gezien worden als een 0 terwijl dit een 1 is. Hetzelfde geval geldt ook voor blauwe cirkels in het rode gebied. Uit het plaatje kan je visueel concluderen dat een shallow model geen accurate bewering kan doen op een periodieke functie, om dit wel juist te krijgen moet een periodieke berekening (tanh) nog gedaan worden."
   ],
   "metadata": {
    "collapsed": false,
    "pycharm": {
     "name": "#%% md\n"
    }
   }
  },
  {
   "cell_type": "code",
   "execution_count": null,
   "outputs": [],
   "source": [],
   "metadata": {
    "collapsed": false,
    "pycharm": {
     "name": "#%%\n"
    }
   }
  }
 ],
 "metadata": {
  "kernelspec": {
   "display_name": "Python 3",
   "language": "python",
   "name": "python3"
  },
  "language_info": {
   "codemirror_mode": {
    "name": "ipython",
    "version": 2
   },
   "file_extension": ".py",
   "mimetype": "text/x-python",
   "name": "python",
   "nbconvert_exporter": "python",
   "pygments_lexer": "ipython2",
   "version": "2.7.6"
  }
 },
 "nbformat": 4,
 "nbformat_minor": 0
}